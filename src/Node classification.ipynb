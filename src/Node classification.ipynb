{
 "cells": [
  {
   "cell_type": "markdown",
   "id": "416bba48",
   "metadata": {},
   "source": [
    "From https://docs.dgl.ai/en/0.5.x/guide/training-node.html"
   ]
  },
  {
   "cell_type": "code",
   "execution_count": 1,
   "id": "396a7d02",
   "metadata": {},
   "outputs": [
    {
     "name": "stderr",
     "output_type": "stream",
     "text": [
      "Using backend: pytorch\n"
     ]
    }
   ],
   "source": [
    "import dgl\n",
    "import torch\n",
    "import torch.nn as nn\n",
    "import torch.nn.functional as F\n",
    "import pandas as pd\n",
    "from dgl.data import DGLDataset\n",
    "import numpy as np\n",
    "import scipy.sparse as sp\n",
    "import networkx as nx\n",
    "import itertools"
   ]
  },
  {
   "cell_type": "code",
   "execution_count": 2,
   "id": "06e87b7d",
   "metadata": {},
   "outputs": [],
   "source": [
    "edges = pd.read_csv('large_twitch_edges.csv', header=0)\n",
    "edges.columns = ['source', 'target']\n",
    "features = pd.read_csv('large_twitch_features.csv', header=0)"
   ]
  },
  {
   "cell_type": "code",
   "execution_count": 4,
   "id": "ddb0e916",
   "metadata": {},
   "outputs": [],
   "source": [
    "features['created_at'] = pd.to_datetime(features['created_at'])\n",
    "features['updated_at'] = pd.to_datetime(features['updated_at'])\n",
    "\n",
    "features['delta_days'] = (features['updated_at'] - features['created_at']).dt.total_seconds()/(60*60*24)\n",
    "\n",
    "features['language'] = pd.factorize(features['language'])[0]"
   ]
  },
  {
   "cell_type": "code",
   "execution_count": 3,
   "id": "90793450",
   "metadata": {},
   "outputs": [],
   "source": [
    "# Minimize the graph (if needed)\n",
    "\n",
    "G = nx.from_pandas_edgelist(edges, source='source', target='target', create_using=nx.Graph())\n",
    "degree_dict = dict(G.degree)\n",
    "selected_nodes = []\n",
    "for i in degree_dict:\n",
    "    if degree_dict[i] >= 300:\n",
    "        selected_nodes.append(i)\n",
    "        \n",
    "edges_filtered = edges[edges[\"source\"].isin(selected_nodes)]\n",
    "edges_filtered = edges[edges[\"target\"].isin(selected_nodes)]\n",
    "\n",
    "nodes_filtered = set(edges_filtered['source'].tolist() + edges_filtered['target'].tolist())\n",
    "features_filtered = features.loc[nodes_filtered]\n",
    "\n",
    "Sdict = dict(zip(nodes_filtered, range(len(nodes_filtered))))\n",
    "edges_filtered['source'] = edges_filtered['source'].map(Sdict)\n",
    "edges_filtered['target'] = edges_filtered['target'].map(Sdict)"
   ]
  },
  {
   "cell_type": "code",
   "execution_count": 7,
   "id": "bb996731",
   "metadata": {},
   "outputs": [
    {
     "name": "stdout",
     "output_type": "stream",
     "text": [
      "Graph(num_nodes=53732, num_edges=1174645,\n",
      "      ndata_schemes={'feat': Scheme(shape=(6,), dtype=torch.float32), 'label': Scheme(shape=(), dtype=torch.int8), 'train_mask': Scheme(shape=(), dtype=torch.bool), 'val_mask': Scheme(shape=(), dtype=torch.bool), 'test_mask': Scheme(shape=(), dtype=torch.bool)}\n",
      "      edata_schemes={})\n"
     ]
    }
   ],
   "source": [
    "class TwitchGamersDataset(DGLDataset):\n",
    "    def __init__(self):\n",
    "        super().__init__(name='twitch_gamers')\n",
    "\n",
    "    def process(self):\n",
    "        nodes_data = features_filtered\n",
    "        edges_data = edges_filtered\n",
    "\n",
    "        node_features = torch.from_numpy(nodes_data[['views', 'mature', 'life_time', 'delta_days', 'dead_account', 'affiliate']].to_numpy()).float()\n",
    "        node_labels = torch.from_numpy(nodes_data['language'].astype('category').cat.codes.copy().to_numpy())\n",
    "        edges_src = torch.from_numpy(edges_data['source'].to_numpy())\n",
    "        edges_dst = torch.from_numpy(edges_data['target'].to_numpy())\n",
    "\n",
    "        self.graph = dgl.graph((edges_src, edges_dst), num_nodes=nodes_data.shape[0])\n",
    "        self.graph.ndata['feat'] = node_features\n",
    "        self.graph.ndata['label'] = node_labels\n",
    "\n",
    "        # If your dataset is a node classification dataset, you will need to assign\n",
    "        # masks indicating whether a node belongs to training, validation, and test set.\n",
    "        n_nodes = nodes_data.shape[0]\n",
    "        n_train = int(n_nodes * 0.6)\n",
    "        n_val = int(n_nodes * 0.2)\n",
    "        train_mask = torch.zeros(n_nodes, dtype=torch.bool)\n",
    "        val_mask = torch.zeros(n_nodes, dtype=torch.bool)\n",
    "        test_mask = torch.zeros(n_nodes, dtype=torch.bool)\n",
    "        train_mask[:n_train] = True\n",
    "        val_mask[n_train:n_train + n_val] = True\n",
    "        test_mask[n_train + n_val:] = True\n",
    "        self.graph.ndata['train_mask'] = train_mask\n",
    "        self.graph.ndata['val_mask'] = val_mask\n",
    "        self.graph.ndata['test_mask'] = test_mask\n",
    "\n",
    "    def __getitem__(self, i):\n",
    "        return self.graph\n",
    "\n",
    "    def __len__(self):\n",
    "        return 1\n",
    "\n",
    "dataset = TwitchGamersDataset()\n",
    "graph = dataset[0]\n",
    "\n",
    "print(graph)"
   ]
  },
  {
   "cell_type": "code",
   "execution_count": 8,
   "id": "f8827e17",
   "metadata": {},
   "outputs": [],
   "source": [
    "import dgl.nn as dglnn\n",
    "import torch.nn as nn\n",
    "import torch.nn.functional as F\n",
    "class SAGE(nn.Module):\n",
    "    def __init__(self, in_feats, hid_feats, out_feats):\n",
    "        super().__init__()\n",
    "        self.conv1 = dglnn.SAGEConv(\n",
    "            in_feats=in_feats, out_feats=hid_feats, aggregator_type='mean')\n",
    "        self.conv2 = dglnn.SAGEConv(\n",
    "            in_feats=hid_feats, out_feats=out_feats, aggregator_type='mean')\n",
    "\n",
    "    def forward(self, graph, inputs):\n",
    "        # inputs are features of nodes\n",
    "        h = self.conv1(graph, inputs)\n",
    "        h = F.relu(h)\n",
    "        h = self.conv2(graph, h)\n",
    "        return h"
   ]
  },
  {
   "cell_type": "code",
   "execution_count": 9,
   "id": "73082bd7",
   "metadata": {},
   "outputs": [],
   "source": [
    "node_features = graph.ndata['feat']\n",
    "node_labels = graph.ndata['label']\n",
    "train_mask = graph.ndata['train_mask']\n",
    "valid_mask = graph.ndata['val_mask']\n",
    "test_mask = graph.ndata['test_mask']\n",
    "n_features = node_features.shape[1]\n",
    "n_labels = int(node_labels.max().item() + 1)"
   ]
  },
  {
   "cell_type": "code",
   "execution_count": 10,
   "id": "9ae469ce",
   "metadata": {},
   "outputs": [],
   "source": [
    "def evaluate(model, graph, features, labels, mask):\n",
    "    model.eval()\n",
    "    with torch.no_grad():\n",
    "        logits = model(graph, features)\n",
    "        logits = logits[mask]\n",
    "        labels = labels[mask]\n",
    "        _, indices = torch.max(logits, dim=1)\n",
    "        correct = torch.sum(indices == labels)\n",
    "        return correct.item() * 1.0 / len(labels)"
   ]
  },
  {
   "cell_type": "code",
   "execution_count": 11,
   "id": "483e6765",
   "metadata": {},
   "outputs": [
    {
     "name": "stdout",
     "output_type": "stream",
     "text": [
      "In epoch 0, loss: 758215.500, val acc: 0.495, test acc: 0.487\n",
      "In epoch 100, loss: 17750.746, val acc: 0.706, test acc: 0.714\n",
      "In epoch 200, loss: 8867.270, val acc: 0.725, test acc: 0.731\n",
      "In epoch 300, loss: 11290.305, val acc: 0.803, test acc: 0.804\n",
      "In epoch 400, loss: 7996.579, val acc: 0.717, test acc: 0.723\n",
      "In epoch 500, loss: 4904.978, val acc: 0.768, test acc: 0.767\n",
      "In epoch 600, loss: 11802.953, val acc: 0.372, test acc: 0.378\n",
      "In epoch 700, loss: 4783.618, val acc: 0.725, test acc: 0.736\n",
      "In epoch 800, loss: 5888.924, val acc: 0.781, test acc: 0.783\n",
      "In epoch 900, loss: 12345.340, val acc: 0.662, test acc: 0.663\n"
     ]
    }
   ],
   "source": [
    "model = SAGE(in_feats=n_features, hid_feats=100, out_feats=n_labels)\n",
    "opt = torch.optim.Adam(model.parameters())\n",
    "logs = []\n",
    "\n",
    "for epoch in range(1000):\n",
    "    model.train()\n",
    "    # forward propagation by using all nodes\n",
    "    logits = model(graph, node_features)\n",
    "    # compute loss\n",
    "    loss = F.cross_entropy(logits[train_mask], node_labels[train_mask].long())\n",
    "    # compute validation accuracy\n",
    "    acc = evaluate(model, graph, node_features, node_labels, valid_mask)\n",
    "    # compute validation accuracy\n",
    "    test_acc = evaluate(model, graph, node_features, node_labels, test_mask)\n",
    "    # backward propagation\n",
    "    opt.zero_grad()\n",
    "    loss.backward()\n",
    "    opt.step()\n",
    "    #print(loss.item())\n",
    "    logs.append([loss, acc, test_acc])\n",
    "    \n",
    "    if epoch % 100 == 0:\n",
    "        print('In epoch {}, loss: {:.3f}, val acc: {:.3f}, test acc: {:.3f}'.format(\n",
    "            epoch, loss, acc, test_acc))"
   ]
  },
  {
   "cell_type": "code",
   "execution_count": 12,
   "id": "34cf399b",
   "metadata": {},
   "outputs": [
    {
     "data": {
      "text/plain": [
       "0.8149250953754537"
      ]
     },
     "execution_count": 12,
     "metadata": {},
     "output_type": "execute_result"
    }
   ],
   "source": [
    "# Max accuracy\n",
    "max(np.array(logs)[:,2])"
   ]
  },
  {
   "cell_type": "code",
   "execution_count": 13,
   "id": "6fa64336",
   "metadata": {},
   "outputs": [
    {
     "data": {
      "text/plain": [
       "[<matplotlib.lines.Line2D at 0x7f65e6172e80>]"
      ]
     },
     "execution_count": 13,
     "metadata": {},
     "output_type": "execute_result"
    },
    {
     "data": {
      "image/png": "[encoded data removed]",
      "text/plain": [
       "<Figure size 432x288 with 1 Axes>"
      ]
     },
     "metadata": {
      "needs_background": "light"
     },
     "output_type": "display_data"
    }
   ],
   "source": [
    "import matplotlib.pyplot as plt\n",
    "plt.plot(np.array(logs)[:,0])"
   ]
  },
  {
   "cell_type": "code",
   "execution_count": 14,
   "id": "27e629dd",
   "metadata": {},
   "outputs": [
    {
     "data": {
      "text/plain": [
       "[<matplotlib.lines.Line2D at 0x7f65e5f99ba8>]"
      ]
     },
     "execution_count": 14,
     "metadata": {},
     "output_type": "execute_result"
    },
    {
     "data": {
      "image/png": "[encoded data removed]",
      "text/plain": [
       "<Figure size 432x288 with 1 Axes>"
      ]
     },
     "metadata": {
      "needs_background": "light"
     },
     "output_type": "display_data"
    }
   ],
   "source": [
    "plt.plot(np.array(logs)[:,2])"
   ]
  },
  {
   "cell_type": "code",
   "execution_count": null,
   "id": "de1488ca",
   "metadata": {},
   "outputs": [],
   "source": []
  }
 ],
 "metadata": {
  "kernelspec": {
   "display_name": "Python 3",
   "language": "python",
   "name": "python3"
  },
  "language_info": {
   "codemirror_mode": {
    "name": "ipython",
    "version": 3
   },
   "file_extension": ".py",
   "mimetype": "text/x-python",
   "name": "python",
   "nbconvert_exporter": "python",
   "pygments_lexer": "ipython3",
   "version": "3.6.10"
  }
 },
 "nbformat": 4,
 "nbformat_minor": 5
}
